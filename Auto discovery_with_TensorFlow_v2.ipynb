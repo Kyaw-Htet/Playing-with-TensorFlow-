{
 "cells": [
  {
   "cell_type": "code",
   "execution_count": 1,
   "metadata": {},
   "outputs": [],
   "source": [
    "import numpy as np\n",
    "import tensorflow as tf\n",
    "import matplotlib.pyplot as plt\n",
    "import time"
   ]
  },
  {
   "cell_type": "markdown",
   "metadata": {},
   "source": [
    "# Objectives\n",
    "**out_data = FC_NN x in_data + Bias + noises**  \n",
    "where, out_data and in_data are 512 x 1 matrix  \n",
    "       FC_NN is 512 x 512 matrix         \n",
    "       Bias is 512 x 1 matrix\n",
    "       \n",
    "Assume that we are not sure about FC_NN and Bias matrixes but we have 10,000 dataset of in_data and out_data. \n",
    "\n",
    "**Let auto discover these FC_NN and Bias matrixes using Adam Optimizer from TensorFlow**"
   ]
  },
  {
   "cell_type": "code",
   "execution_count": 2,
   "metadata": {},
   "outputs": [],
   "source": [
    "in_data = []\n",
    "out_data = []\n",
    "dataset_size = 10000\n",
    "FC_NN = np.random.rand(512,512)\n",
    "Bias_NN = np.random.rand(512,1)-0.5\n",
    "tmp = 0\n",
    "for i in range(dataset_size):\n",
    "    in_data.append(np.random.rand(512,1))\n",
    "for i in range(dataset_size):        \n",
    "    out_data.append(((np.dot(FC_NN,in_data[i])/512)- np.ones((512,1))*0.25)*100 - Bias_NN - (np.random.rand(512,1)-0.5)*0.001)\n",
    "np_in_data = np.array(in_data)\n",
    "np_out_data = np.array(out_data)"
   ]
  },
  {
   "cell_type": "markdown",
   "metadata": {},
   "source": [
    "**Let look at np_in and np_out**"
   ]
  },
  {
   "cell_type": "code",
   "execution_count": 3,
   "metadata": {},
   "outputs": [
    {
     "name": "stdout",
     "output_type": "stream",
     "text": [
      "np_in_data[0,0:10] : [[0.36749441 0.62200434 0.57885494 0.81593413 0.27238199 0.0821933\n",
      "  0.93716219 0.1708414  0.59749138 0.16194285]]\n",
      "np_out_data[0,0:10] : [[ 2.07452833  0.51479488  1.50930054  0.72834451  1.61812541  0.59299283\n",
      "  -0.24792461  2.32092347  1.88108148 -0.30848034]]\n"
     ]
    }
   ],
   "source": [
    "print('np_in_data[0,0:10] : {}'.format(np_in_data[0,0:10].reshape((1,10))))\n",
    "print('np_out_data[0,0:10] : {}'.format(np_out_data[0,0:10].reshape((1,10))))"
   ]
  },
  {
   "cell_type": "code",
   "execution_count": 4,
   "metadata": {},
   "outputs": [],
   "source": [
    "def randomize(x, y):\n",
    "    \"\"\" Randomizes the order of data samples and their corresponding labels\"\"\"\n",
    "    permutation = np.random.permutation(y.shape[0])\n",
    "    shuffled_x = x[permutation]\n",
    "    shuffled_y = y[permutation]\n",
    "    return shuffled_x, shuffled_y\n",
    "\n",
    "def train_test_split(x,y,train_ratio):\n",
    "    train_size = int(y.shape[0]*train_ratio)\n",
    "    x_train = x[0:train_size]\n",
    "    y_train = y[0:train_size]\n",
    "    x_test = x[train_size:]\n",
    "    y_test = y[train_size:]\n",
    "    return x_train, y_train, x_test, y_test\n"
   ]
  },
  {
   "cell_type": "markdown",
   "metadata": {},
   "source": [
    "# Setting up the model in TensorFlow"
   ]
  },
  {
   "cell_type": "code",
   "execution_count": 5,
   "metadata": {},
   "outputs": [
    {
     "name": "stdout",
     "output_type": "stream",
     "text": [
      "WARNING:tensorflow:From C:\\Users\\kohte\\Anaconda3\\lib\\site-packages\\tensorflow\\python\\framework\\op_def_library.py:263: colocate_with (from tensorflow.python.framework.ops) is deprecated and will be removed in a future version.\n",
      "Instructions for updating:\n",
      "Colocations handled automatically by placer.\n"
     ]
    }
   ],
   "source": [
    "learning_rate = 0.001\n",
    "str_save_name = 'model_4.ckpt'\n",
    "\n",
    "# Create placeholder\n",
    "mt = tf.Variable(tf.random_normal([512, 512], stddev=0.35),\n",
    "                      name=\"weights\")\n",
    "Bias = tf.Variable(tf.random_normal([512, 1], stddev=0.35),\n",
    "                      name=\"Bias\")\n",
    "\n",
    "# Build the model\n",
    "x = tf.placeholder(tf.float32, shape=[512, 1])\n",
    "y = tf.placeholder(tf.float32, shape=[512, 1])\n",
    "pred = ((tf.matmul(mt, x)/512) - np.ones((512,1))*0.25)*100 - Bias\n",
    "\n",
    "# Train the model\n",
    "loss = tf.reduce_sum(tf.pow(pred-y, 2))\n",
    "optimizer = tf.train.AdamOptimizer(learning_rate).minimize(loss)\n",
    "\n",
    "# # Experiment Dropout implementation (development in progress)\n",
    "# dropout = tf.placeholder(tf.float32, shape=[512, 512])\n",
    "# pred_train = ((tf.matmul(tf.multiply(mt,dropout), x)/512) - np.ones((512,1))*0.25)*100 - Bias\n",
    "# loss_train = tf.reduce_sum(tf.pow(pred_train-y, 2))\n",
    "# optimizer_dropout = tf.train.AdamOptimizer(learning_rate).minimize(loss_train)"
   ]
  },
  {
   "cell_type": "markdown",
   "metadata": {},
   "source": [
    "**Save the model and weight to model_2.ckpt**"
   ]
  },
  {
   "cell_type": "code",
   "execution_count": 6,
   "metadata": {},
   "outputs": [
    {
     "name": "stdout",
     "output_type": "stream",
     "text": [
      "WARNING:tensorflow:From C:\\Users\\kohte\\Anaconda3\\lib\\site-packages\\tensorflow\\python\\util\\tf_should_use.py:193: initialize_all_variables (from tensorflow.python.ops.variables) is deprecated and will be removed after 2017-03-02.\n",
      "Instructions for updating:\n",
      "Use `tf.global_variables_initializer` instead.\n",
      "initial model file created!\n"
     ]
    }
   ],
   "source": [
    "saver = tf.train.Saver()\n",
    "init_op = tf.initialize_all_variables()\n",
    "with tf.Session() as sess:    \n",
    "    sess.run(init_op)     \n",
    "    save_path = saver.save(sess, str_save_name)\n",
    "    print(\"initial model file created!\")"
   ]
  },
  {
   "cell_type": "markdown",
   "metadata": {},
   "source": [
    "# Train the model\n",
    "**Reload the model and train the model. The model will be saved in every 10 Epochs. In this way, we can stop training at any time and can continue from the last saved one.**"
   ]
  },
  {
   "cell_type": "code",
   "execution_count": 7,
   "metadata": {},
   "outputs": [
    {
     "name": "stdout",
     "output_type": "stream",
     "text": [
      "WARNING:tensorflow:From C:\\Users\\kohte\\Anaconda3\\lib\\site-packages\\tensorflow\\python\\training\\saver.py:1266: checkpoint_exists (from tensorflow.python.training.checkpoint_management) is deprecated and will be removed in a future version.\n",
      "Instructions for updating:\n",
      "Use standard file APIs to check for files with this prefix.\n",
      "INFO:tensorflow:Restoring parameters from model_4.ckpt\n",
      "epoch: 0001 /100 , avg train cost= 130.52 , avg test cost= 132.75 , abs_err [idx 0]: 212.81 , cyc time: 16.440 s\n",
      "Model Saved!\n",
      "epoch: 0003 /100 , avg train cost= 7.6751 , avg test cost= 9.0784 , abs_err [idx 0]: 55.804 , cyc time: 16.265 s\n",
      "epoch: 0005 /100 , avg train cost= 0.6358 , avg test cost= 0.6914 , abs_err [idx 0]: 18.755 , cyc time: 16.224 s\n",
      "epoch: 0007 /100 , avg train cost= 0.1790 , avg test cost= 0.1818 , abs_err [idx 0]: 2.5645 , cyc time: 16.254 s\n",
      "epoch: 0009 /100 , avg train cost= 0.1402 , avg test cost= 0.1415 , abs_err [idx 0]: 10.497 , cyc time: 16.315 s\n",
      "Model Saved!\n",
      "epoch: 0011 /100 , avg train cost= 0.1423 , avg test cost= 0.1472 , abs_err [idx 0]: 7.1702 , cyc time: 16.223 s\n",
      "epoch: 0013 /100 , avg train cost= 0.2039 , avg test cost= 0.2009 , abs_err [idx 0]: 5.8217 , cyc time: 16.310 s\n",
      "epoch: 0015 /100 , avg train cost= 0.1065 , avg test cost= 0.1070 , abs_err [idx 0]: 6.6726 , cyc time: 16.018 s\n",
      "epoch: 0017 /100 , avg train cost= 0.2379 , avg test cost= 0.2419 , abs_err [idx 0]: 12.723 , cyc time: 16.282 s\n",
      "Model Saved!\n",
      "epoch: 0019 /100 , avg train cost= 0.2185 , avg test cost= 0.2138 , abs_err [idx 0]: 9.1490 , cyc time: 15.815 s\n",
      "epoch: 0021 /100 , avg train cost= 0.1786 , avg test cost= 0.1788 , abs_err [idx 0]: 3.7633 , cyc time: 16.085 s\n",
      "epoch: 0023 /100 , avg train cost= 0.2423 , avg test cost= 0.2439 , abs_err [idx 0]: 7.6206 , cyc time: 16.300 s\n",
      "epoch: 0025 /100 , avg train cost= 0.4060 , avg test cost= 0.4069 , abs_err [idx 0]: 13.770 , cyc time: 15.821 s\n",
      "Model Saved!\n",
      "epoch: 0027 /100 , avg train cost= 0.2033 , avg test cost= 0.2034 , abs_err [idx 0]: 8.2681 , cyc time: 16.440 s\n",
      "epoch: 0029 /100 , avg train cost= 0.3035 , avg test cost= 0.2997 , abs_err [idx 0]: 11.390 , cyc time: 16.551 s\n",
      "epoch: 0031 /100 , avg train cost= 0.1299 , avg test cost= 0.1292 , abs_err [idx 0]: 7.3105 , cyc time: 16.299 s\n",
      "epoch: 0033 /100 , avg train cost= 0.1953 , avg test cost= 0.1955 , abs_err [idx 0]: 8.7119 , cyc time: 16.303 s\n",
      "Model Saved!\n",
      "epoch: 0035 /100 , avg train cost= 0.1203 , avg test cost= 0.1196 , abs_err [idx 0]: 5.6037 , cyc time: 16.227 s\n",
      "epoch: 0037 /100 , avg train cost= 0.1163 , avg test cost= 0.1161 , abs_err [idx 0]: 5.1263 , cyc time: 15.929 s\n",
      "epoch: 0039 /100 , avg train cost= 0.1140 , avg test cost= 0.1147 , abs_err [idx 0]: 5.8042 , cyc time: 15.850 s\n",
      "epoch: 0041 /100 , avg train cost= 0.1331 , avg test cost= 0.1318 , abs_err [idx 0]: 5.2907 , cyc time: 16.018 s\n",
      "Model Saved!\n",
      "epoch: 0043 /100 , avg train cost= 0.1271 , avg test cost= 0.1256 , abs_err [idx 0]: 5.2935 , cyc time: 16.584 s\n",
      "epoch: 0045 /100 , avg train cost= 0.1378 , avg test cost= 0.1370 , abs_err [idx 0]: 6.1126 , cyc time: 16.370 s\n",
      "epoch: 0047 /100 , avg train cost= 0.1915 , avg test cost= 0.1902 , abs_err [idx 0]: 4.4950 , cyc time: 16.511 s\n",
      "epoch: 0049 /100 , avg train cost= 0.1244 , avg test cost= 0.1264 , abs_err [idx 0]: 3.5538 , cyc time: 16.551 s\n",
      "Model Saved!\n",
      "epoch: 0051 /100 , avg train cost= 0.1404 , avg test cost= 0.1406 , abs_err [idx 0]: 7.4599 , cyc time: 16.370 s\n",
      "epoch: 0053 /100 , avg train cost= 0.1940 , avg test cost= 0.1915 , abs_err [idx 0]: 7.1881 , cyc time: 16.418 s\n",
      "epoch: 0055 /100 , avg train cost= 0.1374 , avg test cost= 0.1363 , abs_err [idx 0]: 6.7498 , cyc time: 16.191 s\n",
      "epoch: 0057 /100 , avg train cost= 0.1659 , avg test cost= 0.1643 , abs_err [idx 0]: 8.2022 , cyc time: 16.278 s\n",
      "Model Saved!\n",
      "epoch: 0059 /100 , avg train cost= 0.1118 , avg test cost= 0.1123 , abs_err [idx 0]: 6.2134 , cyc time: 16.383 s\n",
      "epoch: 0061 /100 , avg train cost= 0.2156 , avg test cost= 0.2139 , abs_err [idx 0]: 9.2645 , cyc time: 16.221 s\n",
      "epoch: 0063 /100 , avg train cost= 0.1255 , avg test cost= 0.1257 , abs_err [idx 0]: 6.9865 , cyc time: 15.864 s\n",
      "epoch: 0065 /100 , avg train cost= 0.0988 , avg test cost= 0.0982 , abs_err [idx 0]: 7.6056 , cyc time: 16.054 s\n",
      "Model Saved!\n",
      "epoch: 0067 /100 , avg train cost= 0.0972 , avg test cost= 0.0969 , abs_err [idx 0]: 3.2943 , cyc time: 16.516 s\n",
      "epoch: 0069 /100 , avg train cost= 0.1159 , avg test cost= 0.1148 , abs_err [idx 0]: 5.3761 , cyc time: 16.139 s\n",
      "epoch: 0071 /100 , avg train cost= 0.2108 , avg test cost= 0.2136 , abs_err [idx 0]: 7.2480 , cyc time: 16.407 s\n",
      "epoch: 0073 /100 , avg train cost= 0.1319 , avg test cost= 0.1344 , abs_err [idx 0]: 6.5060 , cyc time: 16.400 s\n",
      "Model Saved!\n",
      "epoch: 0075 /100 , avg train cost= 0.2172 , avg test cost= 0.2131 , abs_err [idx 0]: 10.821 , cyc time: 16.386 s\n",
      "epoch: 0077 /100 , avg train cost= 0.2339 , avg test cost= 0.2313 , abs_err [idx 0]: 10.946 , cyc time: 16.241 s\n",
      "epoch: 0079 /100 , avg train cost= 0.0842 , avg test cost= 0.0846 , abs_err [idx 0]: 7.1673 , cyc time: 15.908 s\n",
      "epoch: 0081 /100 , avg train cost= 0.1273 , avg test cost= 0.1277 , abs_err [idx 0]: 5.2903 , cyc time: 16.246 s\n",
      "Model Saved!\n",
      "epoch: 0083 /100 , avg train cost= 0.1788 , avg test cost= 0.1799 , abs_err [idx 0]: 10.854 , cyc time: 16.350 s\n",
      "epoch: 0085 /100 , avg train cost= 0.1810 , avg test cost= 0.1830 , abs_err [idx 0]: 10.060 , cyc time: 16.467 s\n",
      "epoch: 0087 /100 , avg train cost= 0.1207 , avg test cost= 0.1218 , abs_err [idx 0]: 4.9839 , cyc time: 16.541 s\n",
      "epoch: 0089 /100 , avg train cost= 0.0962 , avg test cost= 0.0953 , abs_err [idx 0]: 5.6930 , cyc time: 16.662 s\n",
      "Model Saved!\n",
      "epoch: 0091 /100 , avg train cost= 0.1026 , avg test cost= 0.1024 , abs_err [idx 0]: 6.0681 , cyc time: 16.054 s\n",
      "epoch: 0093 /100 , avg train cost= 0.1402 , avg test cost= 0.1391 , abs_err [idx 0]: 7.5987 , cyc time: 16.088 s\n",
      "epoch: 0095 /100 , avg train cost= 0.1032 , avg test cost= 0.1028 , abs_err [idx 0]: 9.5856 , cyc time: 16.279 s\n",
      "epoch: 0097 /100 , avg train cost= 0.1478 , avg test cost= 0.1475 , abs_err [idx 0]: 4.1383 , cyc time: 15.957 s\n",
      "Model Saved!\n",
      "epoch: 0099 /100 , avg train cost= 0.1747 , avg test cost= 0.1771 , abs_err [idx 0]: 5.8614 , cyc time: 16.405 s\n",
      "Optimization Finished!\n",
      "Model Saved!\n",
      "abs_err of idx 0: [5.04252192]\n"
     ]
    }
   ],
   "source": [
    "# parameters\n",
    "train_ratio = 0.8\n",
    "training_epochs = 100\n",
    "dropout_rate = 0\n",
    "display_step = 2\n",
    "save_step = 8\n",
    "\n",
    "# Train and Test Split\n",
    "np_in_data_train, np_out_data_train, np_in_data_test, np_out_data_test = train_test_split(np_in_data, \n",
    "                                                                                          np_out_data, \n",
    "                                                                                          train_ratio = train_ratio)\n",
    "\n",
    "# Start training\n",
    "with tf.Session() as sess:    \n",
    "    \n",
    "    # Load the model\n",
    "    saver.restore(sess, str_save_name)    \n",
    "\n",
    "    for epoch in range(training_epochs):               \n",
    "        start = time.time()        \n",
    "        # randomize train dataset\n",
    "        np_in_data_train, np_out_data_train = randomize(np_in_data_train, np_out_data_train)\n",
    "        \n",
    "        # Train the model for one epoch\n",
    "        for n in range(np_out_data_train.shape[0]):      \n",
    "            if(n%100==0):\n",
    "                dropout_1 = (np.random.rand(512,512)>dropout_rate)*1.0        \n",
    "            sess.run(optimizer,feed_dict={x:np_in_data_train[n],y:np_out_data_train[n]})\n",
    "\n",
    "        # Display logs per epoch step\n",
    "        if (epoch) % display_step == 0:\n",
    "            \n",
    "            # get total cost of train set\n",
    "            c = 0;\n",
    "            for n in range(np_out_data_train.shape[0]):\n",
    "                c = c + sess.run(loss,feed_dict={x:np_in_data_train[n],y:np_out_data_train[n]})\n",
    "            c = c/np_out_data_train.shape[0]\n",
    "            \n",
    "            # get total cost of test set\n",
    "            c_t = 0;\n",
    "            for n in range(np_out_data_test.shape[0]):\n",
    "                c_t = c_t + sess.run(loss,feed_dict={x:np_in_data_test[n],y:np_out_data_test[n]})\n",
    "            c_t = c_t/np_out_data_test.shape[0]\n",
    "            \n",
    "            # Show Absolute  Error\n",
    "            predict = sess.run(pred,feed_dict={x:np_in_data_test[0]})\n",
    "            \n",
    "            # Display the message\n",
    "            print(\"epoch:\", '%04d' % (epoch+1), '/%d' % (training_epochs), \", avg train cost=\", \"{:.6}\".format(str(c)),\n",
    "                  \", avg test cost=\", \"{:.6}\".format(str(c_t)), \n",
    "                  \", abs_err [idx 0]:\", \"{:.6}\".format(str(sum(sum(abs(predict-np_out_data_test[0]))))),\n",
    "                  \", cyc time:\", \"{:.6}\".format(str(time.time() - start)), \"s\")\n",
    "\n",
    "        if (epoch) % save_step == 0:            \n",
    "            \n",
    "            # Save the model\n",
    "            save_path = saver.save(sess, str_save_name)\n",
    "            print(\"Model Saved!\")\n",
    "            \n",
    "    print(\"Optimization Finished!\")\n",
    "    predict = sess.run(pred,feed_dict={x:np_in_data_test[0]})\n",
    "    save_path = saver.save(sess, str_save_name)\n",
    "    print(\"Model Saved!\")\n",
    "    print(\"abs_err of idx 0: {}\".format(sum(abs(predict-np_out_data_test[0]))))\n",
    "\n",
    "    "
   ]
  },
  {
   "cell_type": "markdown",
   "metadata": {},
   "source": [
    "# Check the result\n",
    "**Print Predicted FC_NN matrix vs actual one**  \n",
    "**Print Predicted Bias matrix vs actual one**  \n",
    "**You will find that they are actually very close**  "
   ]
  },
  {
   "cell_type": "code",
   "execution_count": 8,
   "metadata": {},
   "outputs": [
    {
     "name": "stdout",
     "output_type": "stream",
     "text": [
      "INFO:tensorflow:Restoring parameters from model_4.ckpt\n",
      "[[0.15019812 0.19793849 0.27795264 ... 0.82029885 0.21533759 0.97129107]\n",
      " [0.12732624 0.4783094  0.30039266 ... 0.85725963 1.0064675  0.7586497 ]]\n",
      "[[0.16197962 0.20607511 0.28786249 ... 0.82202146 0.2227817  0.97544313]\n",
      " [0.12576    0.48723765 0.30444728 ... 0.85682352 0.99933494 0.76461612]]\n",
      "[[-0.4426669  -0.12216051 -0.18660145 -0.02668742 -0.47945103 -0.0317819\n",
      "   0.1468918  -0.17940368  0.32288018 -0.05600573]]\n",
      "[[-0.43955023 -0.11924664 -0.18566434 -0.03373253 -0.47388131 -0.0315662\n",
      "   0.1487314  -0.17631927  0.32587368 -0.05849385]]\n",
      "predict[0,0:10] : [[ 1.4177333  -0.71064603  0.32624322 -0.3030112   0.81652427 -0.48463422\n",
      "  -1.6597307   1.1757281   0.9540123  -1.2611377 ]]\n",
      "np_out_data[0,0:10] : [[ 2.07452833  0.51479488  1.50930054  0.72834451  1.61812541  0.59299283\n",
      "  -0.24792461  2.32092347  1.88108148 -0.30848034]]\n"
     ]
    }
   ],
   "source": [
    "with tf.Session() as sess: \n",
    "    saver.restore(sess, str_save_name)\n",
    "    print(sess.run(mt)[0:2][0:2])\n",
    "    print(FC_NN[0:2][0:2])\n",
    "    print(sess.run(Bias)[0:10].reshape((1,10)))\n",
    "    print(Bias_NN[0:10].reshape((1,10)))\n",
    "    print('predict[0,0:10] : {}'.format(predict[0:10].reshape((1,10))))\n",
    "    print('np_out_data[0,0:10] : {}'.format(np_out_data[0,0:10].reshape((1,10))))"
   ]
  },
  {
   "cell_type": "code",
   "execution_count": null,
   "metadata": {},
   "outputs": [],
   "source": []
  }
 ],
 "metadata": {
  "kernelspec": {
   "display_name": "Python 3",
   "language": "python",
   "name": "python3"
  },
  "language_info": {
   "codemirror_mode": {
    "name": "ipython",
    "version": 3
   },
   "file_extension": ".py",
   "mimetype": "text/x-python",
   "name": "python",
   "nbconvert_exporter": "python",
   "pygments_lexer": "ipython3",
   "version": "3.7.1"
  }
 },
 "nbformat": 4,
 "nbformat_minor": 2
}
